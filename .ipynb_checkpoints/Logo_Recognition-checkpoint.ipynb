{
 "cells": [
  {
   "cell_type": "markdown",
   "metadata": {
    "id": "B9J-dCjjUxDf"
   },
   "source": [
    "**Deep Learning Micro Project**"
   ]
  },
  {
   "cell_type": "markdown",
   "metadata": {
    "id": "YoHQgILsU9l6"
   },
   "source": [
    "**Name : G.Siva Ashok**"
   ]
  },
  {
   "cell_type": "markdown",
   "metadata": {
    "id": "GDI2mLDGVFOz"
   },
   "source": [
    "**Guide: Prof. R. Raja Subramanian**"
   ]
  },
  {
   "cell_type": "markdown",
   "metadata": {
    "id": "B3wbUXnBTab0"
   },
   "source": [
    "**Description**"
   ]
  },
  {
   "cell_type": "markdown",
   "metadata": {
    "id": "6peokGgER1oZ"
   },
   "source": [
    "This is the python program for Face or any object detection using VGG19 architecture, Tensorflow, cv2, Matplotlib for image showing"
   ]
  },
  {
   "cell_type": "markdown",
   "metadata": {
    "id": "gAkWwgmpS44g"
   },
   "source": [
    "Here we will take dataset from kaggle and the dataset is mainly based on logos of various brands."
   ]
  },
  {
   "cell_type": "markdown",
   "metadata": {
    "id": "8MuGjZnIS41L"
   },
   "source": [
    "Finally we are training and validating as we get accuracy more than 85 then callback and prediction our custom image from testing set"
   ]
  },
  {
   "cell_type": "code",
   "execution_count": null,
   "metadata": {
    "id": "SWr8jWEDAKYB"
   },
   "outputs": [],
   "source": [
    "#Importing all required libraries\n",
    "import tensorflow as tf\n",
    "import cv2\n",
    "import random \n",
    "import numpy as np\n",
    "import matplotlib.pyplot as plt\n",
    "import os\n",
    "import tensorflow as tf\n",
    "from tensorflow.keras.applications import *\n",
    "from tensorflow.keras.models import *\n",
    "from tensorflow.keras.layers import *\n",
    "from tensorflow.keras.utils import load_img"
   ]
  },
  {
   "cell_type": "code",
   "execution_count": null,
   "metadata": {
    "id": "pdG8nq3OAKYH"
   },
   "outputs": [],
   "source": [
    "lt = [cv2.ROTATE_180,cv2.ROTATE_90_COUNTERCLOCKWISE,cv2.ROTATE_90_CLOCKWISE]\n",
    "def brightness(img):\n",
    "    value = random.uniform(0.5, 2)\n",
    "    hsv = cv2.cvtColor(img, cv2.COLOR_BGR2HSV)\n",
    "    hsv = np.array(hsv, dtype = np.float64)\n",
    "    hsv[:,:,1] = hsv[:,:,1]*value\n",
    "    hsv[:,:,1][hsv[:,:,1]>255]  = 255\n",
    "    hsv[:,:,2] = hsv[:,:,2]*value \n",
    "    hsv[:,:,2][hsv[:,:,2]>255]  = 255\n",
    "    hsv = np.array(hsv, dtype = np.uint8)\n",
    "    img = cv2.cvtColor(hsv, cv2.COLOR_HSV2BGR)\n",
    "    return img"
   ]
  },
  {
   "cell_type": "code",
   "execution_count": null,
   "metadata": {
    "colab": {
     "base_uri": "https://localhost:8080/"
    },
    "id": "Xd2avxfuEVP8",
    "outputId": "6cbb327d-a41b-4d7c-ba53-a48dbb790a38"
   },
   "outputs": [
    {
     "name": "stdout",
     "output_type": "stream",
     "text": [
      "Mounted at /content/drive\n"
     ]
    }
   ],
   "source": [
    "from google.colab import drive\n",
    "drive.mount('/content/drive')"
   ]
  },
  {
   "cell_type": "code",
   "execution_count": null,
   "metadata": {
    "id": "wbo5TRjgEZWc"
   },
   "outputs": [],
   "source": [
    "#assigning directory\n",
    "import pathlib\n",
    "import glob\n",
    "directory=pathlib.Path(\"/content/drive/MyDrive/logos1\")"
   ]
  },
  {
   "cell_type": "code",
   "execution_count": null,
   "metadata": {
    "id": "wFb7X7FldHNE"
   },
   "outputs": [],
   "source": [
    "resultant=\"/content/augmentedimages1\""
   ]
  },
  {
   "cell_type": "code",
   "execution_count": null,
   "metadata": {
    "colab": {
     "base_uri": "https://localhost:8080/"
    },
    "id": "ktmV1KWKAKYI",
    "outputId": "30c9643f-9c69-4f53-9756-e34ad456cd55"
   },
   "outputs": [
    {
     "name": "stdout",
     "output_type": "stream",
     "text": [
      "ac-dc-black-vector-logo-400x400.png\n",
      "ac-pisa-1909-vector-logo-400x400.png\n",
      "abu-dhabi-logo.png\n",
      "adidas-celebrate-originality-vector-logo-400x400.png\n",
      "adidas-originals-logo-400x400.png\n",
      "abta-logo-vector-download-400x400.jpg\n",
      "ac-cuneo-1905-vector-logo-400x400.png\n",
      "adidas-black-vector-logo-400x400.png\n",
      "adidas-3-vector-logo-400x400.png\n",
      "abs-wheels-vector-logo-400x400.png\n",
      "abercrombie-and-fitch-black-vector-logo-400x400.png\n",
      "Adidas-logo-400x400.png\n",
      "ac-milan-eps-vector-logo-400x400.png\n",
      "aareal-bank-vector-logo-400x400.png\n",
      "advan-logo-vector-download.jpg\n",
      "Adidas-Trefoil-logo-vector-for-free-download.png\n",
      "adobe-eps-vector-logo-400x400.png\n",
      "air-asia-eps-vector-logo-400x400.png\n",
      "Adidas-Y-3-logo-vector-free-download.png\n",
      "afc-champions-league-logo.png\n",
      "aguilas-del-america-vector-logo-400x400.png\n",
      "air-arabia-vector-logo-400x400.png\n",
      "aeon-logo-vector-400x400.png\n",
      "adobe-systems-vector-logo-400x400.png\n",
      "Agribank-logo-400x400.png\n",
      "airtel-logo-vector-400x400.png\n",
      "ak-sigorta-vector-logo-400x400.png\n",
      "alianza-francesa-vector-logo-400x400.png\n",
      "alfa-romeo-auto-vector-logo-400x400.png\n",
      "ajax-logo-vector-400x400.png\n",
      "ajuntament-de-barcelona-vector-logo-400x400.png\n",
      "alfa-romeo-mito-logo-vector-download.jpg\n",
      "akrapovic-logo-vector-400x400.png\n",
      "ak-parti-orjinal-vector-logo-400x400.png\n",
      "airtel-2010-vector-logo-400x400.png\n",
      "alpine-stars-black-vector-logo-400x400.png\n",
      "all-new-accord-vector-logo-400x400.png\n",
      "all-blacks-eps-vector-logo-400x400.png\n",
      "allahabad-bank-vector-logo-400x400.png\n",
      "alipay-logo.png\n",
      "allegiant-air-logo-preview-400x400.png\n",
      "alibaba-logo-png-400x400.png\n",
      "allah-cellacelaluhu-vector-logo-400x400.png\n",
      "all-nippon-airways-logo.png\n",
      "alibaba-group-logo.png\n",
      "alpina-eps-vector-logo-400x400.png\n",
      "amazon-payments-logo-preview-400x400.png\n",
      "amazon-logo-history-400x400.jpg\n",
      "american-flag-logo-vector-400x400.png\n",
      "amway-vector-logo-400x400.png\n",
      "amazon-alexa-logo.png\n",
      "amazon-logo-vector-download-400x400.jpg\n",
      "alpinestars-eps-vector-logo-400x400.png\n",
      "amazon-logo-preview-400x400.png\n",
      "american-express-logo.png\n",
      "amsoil-vector-logo-400x400.png\n",
      "apple-3d-vector-logo-400x400.png\n",
      "android-vector-logo.png\n",
      "antalya-buyuksehir-belediyesi-vector-logo-400x400.png\n",
      "android-robot-vector-400x400.jpg\n",
      "Android-app-on-Google-play-badge-vector.png\n",
      "apple-app-store-logo.png\n",
      "apple-classic-rainbow-vector-logo-400x400.png\n",
      "anker-logo-vector-download-400x400.png\n",
      "andhra-bank-vector-logo-400x400.png\n",
      "android-pay-logo.png\n",
      "apple-iphone-6s-logo-vector-download-400x400.jpg\n",
      "apple-inc-vector-logo-400x400.png\n",
      "apple-ios-logo-vector-download-400x400.jpg\n",
      "apple-computer-vector-logo-400x400.png\n"
     ]
    }
   ],
   "source": [
    "items = os.listdir(directory)\n",
    "\n",
    "classes=[]\n",
    "count=0\n",
    "images = []\n",
    "labels=[]\n",
    "for i in items:\n",
    "    i1 = 0\n",
    "    print(i)\n",
    "    classes.append(i)\n",
    "    path1 = f\"{directory}/{i}\"\n",
    "    a = random.randint(5,10)\n",
    "    img = cv2.imread(path1)\n",
    "    img = cv2.resize(img,(224,224))\n",
    "    k = i.split(\".\")[0]\n",
    "    cv2.imwrite(f\"{resultant}\\{k}{i1}.jpg\",img)\n",
    "    \n",
    "    i1+=1\n",
    "    while a!=0:\n",
    "        img = cv2.rotate(img,lt[random.randint(0,2)])\n",
    "        images.append(img)\n",
    "        cv2.imwrite(f\"{resultant}\\{k}{i1}.jpg\",img)\n",
    "        i1+=1\n",
    "        labels.append(count)\n",
    "        if a%2==0:\n",
    "            img = brightness(img)\n",
    "            images.append(img)\n",
    "            cv2.imwrite(f\"{resultant}\\{k}{i1}.jpg\",img)\n",
    "            i1+=1\n",
    "            labels.append(count)\n",
    "        a-=1\n",
    "    count+=1\n",
    "images = np.array(images) \n",
    "labels = np.array(labels)"
   ]
  },
  {
   "cell_type": "code",
   "execution_count": null,
   "metadata": {
    "colab": {
     "base_uri": "https://localhost:8080/"
    },
    "id": "TaCNfz3_AKYK",
    "outputId": "158a4ce5-6e9b-4f0c-f3d8-43b45cb75e78"
   },
   "outputs": [
    {
     "data": {
      "text/plain": [
       "(731, 224, 224, 3)"
      ]
     },
     "execution_count": 7,
     "metadata": {},
     "output_type": "execute_result"
    }
   ],
   "source": [
    "images.shape"
   ]
  },
  {
   "cell_type": "code",
   "execution_count": null,
   "metadata": {
    "colab": {
     "base_uri": "https://localhost:8080/"
    },
    "id": "MjHYBMAjAKYL",
    "outputId": "00679454-9bc9-4454-a998-c24e24725ce7"
   },
   "outputs": [
    {
     "name": "stdout",
     "output_type": "stream",
     "text": [
      "Downloading data from https://storage.googleapis.com/tensorflow/keras-applications/vgg19/vgg19_weights_tf_dim_ordering_tf_kernels.h5\n",
      "574710816/574710816 [==============================] - 4s 0us/step\n"
     ]
    }
   ],
   "source": [
    "# change the model here for alternatives\n",
    "\n",
    "model = VGG19(weights=\"imagenet\")\n",
    "for i in model.layers:\n",
    "    i.trainable =  False"
   ]
  },
  {
   "cell_type": "code",
   "execution_count": null,
   "metadata": {
    "colab": {
     "base_uri": "https://localhost:8080/"
    },
    "id": "jcoOFWf-AKYM",
    "outputId": "e00b7e11-bab3-483f-faaf-8e00fe4f7d0a"
   },
   "outputs": [
    {
     "data": {
      "text/plain": [
       "26"
      ]
     },
     "execution_count": 9,
     "metadata": {},
     "output_type": "execute_result"
    }
   ],
   "source": [
    "len(model.layers)"
   ]
  },
  {
   "cell_type": "code",
   "execution_count": null,
   "metadata": {
    "colab": {
     "base_uri": "https://localhost:8080/"
    },
    "id": "Jqu68Ax-AKYN",
    "outputId": "aff6d1d6-966a-40e1-b0f0-42d39e63c61b"
   },
   "outputs": [
    {
     "name": "stdout",
     "output_type": "stream",
     "text": [
      "Model: \"vgg19\"\n",
      "_________________________________________________________________\n",
      " Layer (type)                Output Shape              Param #   \n",
      "=================================================================\n",
      " input_1 (InputLayer)        [(None, 224, 224, 3)]     0         \n",
      "                                                                 \n",
      " block1_conv1 (Conv2D)       (None, 224, 224, 64)      1792      \n",
      "                                                                 \n",
      " block1_conv2 (Conv2D)       (None, 224, 224, 64)      36928     \n",
      "                                                                 \n",
      " block1_pool (MaxPooling2D)  (None, 112, 112, 64)      0         \n",
      "                                                                 \n",
      " block2_conv1 (Conv2D)       (None, 112, 112, 128)     73856     \n",
      "                                                                 \n",
      " block2_conv2 (Conv2D)       (None, 112, 112, 128)     147584    \n",
      "                                                                 \n",
      " block2_pool (MaxPooling2D)  (None, 56, 56, 128)       0         \n",
      "                                                                 \n",
      " block3_conv1 (Conv2D)       (None, 56, 56, 256)       295168    \n",
      "                                                                 \n",
      " block3_conv2 (Conv2D)       (None, 56, 56, 256)       590080    \n",
      "                                                                 \n",
      " block3_conv3 (Conv2D)       (None, 56, 56, 256)       590080    \n",
      "                                                                 \n",
      " block3_conv4 (Conv2D)       (None, 56, 56, 256)       590080    \n",
      "                                                                 \n",
      " block3_pool (MaxPooling2D)  (None, 28, 28, 256)       0         \n",
      "                                                                 \n",
      " block4_conv1 (Conv2D)       (None, 28, 28, 512)       1180160   \n",
      "                                                                 \n",
      " block4_conv2 (Conv2D)       (None, 28, 28, 512)       2359808   \n",
      "                                                                 \n",
      " block4_conv3 (Conv2D)       (None, 28, 28, 512)       2359808   \n",
      "                                                                 \n",
      " block4_conv4 (Conv2D)       (None, 28, 28, 512)       2359808   \n",
      "                                                                 \n",
      " block4_pool (MaxPooling2D)  (None, 14, 14, 512)       0         \n",
      "                                                                 \n",
      " block5_conv1 (Conv2D)       (None, 14, 14, 512)       2359808   \n",
      "                                                                 \n",
      " block5_conv2 (Conv2D)       (None, 14, 14, 512)       2359808   \n",
      "                                                                 \n",
      " block5_conv3 (Conv2D)       (None, 14, 14, 512)       2359808   \n",
      "                                                                 \n",
      " block5_conv4 (Conv2D)       (None, 14, 14, 512)       2359808   \n",
      "                                                                 \n",
      " block5_pool (MaxPooling2D)  (None, 7, 7, 512)         0         \n",
      "                                                                 \n",
      " flatten (Flatten)           (None, 25088)             0         \n",
      "                                                                 \n",
      " fc1 (Dense)                 (None, 4096)              102764544 \n",
      "                                                                 \n",
      " fc2 (Dense)                 (None, 4096)              16781312  \n",
      "                                                                 \n",
      " predictions (Dense)         (None, 1000)              4097000   \n",
      "                                                                 \n",
      "=================================================================\n",
      "Total params: 143,667,240\n",
      "Trainable params: 0\n",
      "Non-trainable params: 143,667,240\n",
      "_________________________________________________________________\n"
     ]
    }
   ],
   "source": [
    "model.summary()"
   ]
  },
  {
   "cell_type": "code",
   "execution_count": null,
   "metadata": {
    "id": "FlbjzC_kAKYO"
   },
   "outputs": [],
   "source": [
    "model2 = Sequential() \n",
    "\n",
    "# adding layers from pre-trained model\n",
    "for i in range(18):\n",
    "    model2.add(model.layers[i])"
   ]
  },
  {
   "cell_type": "code",
   "execution_count": null,
   "metadata": {
    "id": "dHyO1uziAKYP"
   },
   "outputs": [],
   "source": [
    "# adding custum layers\n",
    "model2.add(Flatten())\n",
    "model2.add(Dense(900,activation=\"relu\"))\n",
    "model2.add(Dense(800,activation=\"relu\"))\n",
    "model2.add(Dense(731,activation=\"Softmax\"))"
   ]
  },
  {
   "cell_type": "code",
   "execution_count": null,
   "metadata": {
    "colab": {
     "base_uri": "https://localhost:8080/"
    },
    "id": "WCQ1mw5sAKYQ",
    "outputId": "d6e5b916-3742-4928-d0f4-a7bad1f2ad18"
   },
   "outputs": [
    {
     "name": "stdout",
     "output_type": "stream",
     "text": [
      "Model: \"sequential\"\n",
      "_________________________________________________________________\n",
      " Layer (type)                Output Shape              Param #   \n",
      "=================================================================\n",
      " block1_conv1 (Conv2D)       (None, 224, 224, 64)      1792      \n",
      "                                                                 \n",
      " block1_conv2 (Conv2D)       (None, 224, 224, 64)      36928     \n",
      "                                                                 \n",
      " block1_pool (MaxPooling2D)  (None, 112, 112, 64)      0         \n",
      "                                                                 \n",
      " block2_conv1 (Conv2D)       (None, 112, 112, 128)     73856     \n",
      "                                                                 \n",
      " block2_conv2 (Conv2D)       (None, 112, 112, 128)     147584    \n",
      "                                                                 \n",
      " block2_pool (MaxPooling2D)  (None, 56, 56, 128)       0         \n",
      "                                                                 \n",
      " block3_conv1 (Conv2D)       (None, 56, 56, 256)       295168    \n",
      "                                                                 \n",
      " block3_conv2 (Conv2D)       (None, 56, 56, 256)       590080    \n",
      "                                                                 \n",
      " block3_conv3 (Conv2D)       (None, 56, 56, 256)       590080    \n",
      "                                                                 \n",
      " block3_conv4 (Conv2D)       (None, 56, 56, 256)       590080    \n",
      "                                                                 \n",
      " block3_pool (MaxPooling2D)  (None, 28, 28, 256)       0         \n",
      "                                                                 \n",
      " block4_conv1 (Conv2D)       (None, 28, 28, 512)       1180160   \n",
      "                                                                 \n",
      " block4_conv2 (Conv2D)       (None, 28, 28, 512)       2359808   \n",
      "                                                                 \n",
      " block4_conv3 (Conv2D)       (None, 28, 28, 512)       2359808   \n",
      "                                                                 \n",
      " block4_conv4 (Conv2D)       (None, 28, 28, 512)       2359808   \n",
      "                                                                 \n",
      " block4_pool (MaxPooling2D)  (None, 14, 14, 512)       0         \n",
      "                                                                 \n",
      " block5_conv1 (Conv2D)       (None, 14, 14, 512)       2359808   \n",
      "                                                                 \n",
      " flatten (Flatten)           (None, 100352)            0         \n",
      "                                                                 \n",
      " dense (Dense)               (None, 900)               90317700  \n",
      "                                                                 \n",
      " dense_1 (Dense)             (None, 800)               720800    \n",
      "                                                                 \n",
      " dense_2 (Dense)             (None, 731)               585531    \n",
      "                                                                 \n",
      "=================================================================\n",
      "Total params: 104,568,991\n",
      "Trainable params: 91,624,031\n",
      "Non-trainable params: 12,944,960\n",
      "_________________________________________________________________\n"
     ]
    }
   ],
   "source": [
    "model2.summary()"
   ]
  },
  {
   "cell_type": "code",
   "execution_count": null,
   "metadata": {
    "id": "4dLa57ruAKYR"
   },
   "outputs": [],
   "source": [
    "import tensorflow as tf\n",
    "class myCallback(tf.keras.callbacks.Callback): \n",
    "    def on_epoch_end(self, epoch, logs={}): \n",
    "        print(\"call\")\n",
    "        if(logs.get('accuracy') > .85):   \n",
    "            print(\"\\nReached %2.2f%% accuracy, so stopping training!!\" %(85))   \n",
    "            self.model.stop_training = True\n",
    "callbacks = myCallback()"
   ]
  },
  {
   "cell_type": "markdown",
   "metadata": {
    "id": "PF_uvtyDVdek"
   },
   "source": [
    "**Training and Validation**"
   ]
  },
  {
   "cell_type": "code",
   "execution_count": null,
   "metadata": {
    "colab": {
     "base_uri": "https://localhost:8080/"
    },
    "id": "oCxM-nnlAKYR",
    "outputId": "78eb8735-6cf7-446d-d272-4903d32648c7"
   },
   "outputs": [
    {
     "name": "stdout",
     "output_type": "stream",
     "text": [
      "Epoch 1/100\n",
      "23/23 [==============================] - ETA: 0s - loss: 1920.8323 - accuracy: 0.3037 call\n",
      "23/23 [==============================] - 508s 22s/step - loss: 1920.8323 - accuracy: 0.3037\n",
      "Epoch 2/100\n",
      "23/23 [==============================] - ETA: 0s - loss: 137.6018 - accuracy: 0.7743 call\n",
      "23/23 [==============================] - 510s 22s/step - loss: 137.6018 - accuracy: 0.7743\n",
      "Epoch 3/100\n",
      "23/23 [==============================] - ETA: 0s - loss: 35.1721 - accuracy: 0.9056 call\n",
      "\n",
      "Reached 99.00% accuracy, so stopping training!!\n",
      "23/23 [==============================] - 511s 22s/step - loss: 35.1721 - accuracy: 0.9056\n"
     ]
    },
    {
     "data": {
      "text/plain": [
       "<keras.callbacks.History at 0x7f2c40370b50>"
      ]
     },
     "execution_count": 15,
     "metadata": {},
     "output_type": "execute_result"
    }
   ],
   "source": [
    "# model1.summary()\n",
    "model2.compile(optimizer=\"adam\",loss=\"sparse_categorical_crossentropy\",metrics=[\"accuracy\"])\n",
    "model2.fit(images,labels,epochs=100,callbacks=[callbacks])"
   ]
  },
  {
   "cell_type": "code",
   "execution_count": null,
   "metadata": {
    "id": "lFySTeT7t70R"
   },
   "outputs": [],
   "source": []
  },
  {
   "cell_type": "code",
   "execution_count": null,
   "metadata": {
    "colab": {
     "base_uri": "https://localhost:8080/"
    },
    "id": "1USJ-1DfAKYT",
    "outputId": "22eef727-4b6c-4936-9d14-a3161a8e7706"
   },
   "outputs": [
    {
     "name": "stdout",
     "output_type": "stream",
     "text": [
      "23/23 [==============================] - 477s 21s/step - loss: 9.1747 - accuracy: 0.9699\n"
     ]
    },
    {
     "data": {
      "text/plain": [
       "[9.174651145935059, 0.9699042439460754]"
      ]
     },
     "execution_count": 16,
     "metadata": {},
     "output_type": "execute_result"
    }
   ],
   "source": [
    "model2.evaluate(images,labels)"
   ]
  },
  {
   "cell_type": "code",
   "execution_count": null,
   "metadata": {
    "id": "SkVytyFDlWFG"
   },
   "outputs": [],
   "source": [
    "def predict(i,model,labels):\n",
    "    path1 = \"/content/drive/MyDrive/Testing Set/\"+i\n",
    "    img = cv2.imread(path1)\n",
    "    img = cv2.resize(img,(224,224))\n",
    "    a = np.argmax(model.predict(np.array([img])))\n",
    "    img = cv2.putText(img, labels[a], (-5,20), cv2.FONT_HERSHEY_SIMPLEX,1, (200,200,0), 3, cv2.LINE_AA)\n",
    "    plt.imshow(img)"
   ]
  },
  {
   "cell_type": "markdown",
   "metadata": {
    "id": "xUw0FT5CVYM3"
   },
   "source": [
    "**Output**"
   ]
  },
  {
   "cell_type": "code",
   "execution_count": null,
   "metadata": {
    "colab": {
     "base_uri": "https://localhost:8080/",
     "height": 286
    },
    "id": "jPjI6BodlXPv",
    "outputId": "3699aee5-b230-4db5-e311-999def33ae97"
   },
   "outputs": [
    {
     "name": "stdout",
     "output_type": "stream",
     "text": [
      "1/1 [==============================] - 1s 600ms/step\n"
     ]
    },
    {
     "data": {
      "image/png": "[encoded data removed]",
      "text/plain": [
       "<Figure size 432x288 with 1 Axes>"
      ]
     },
     "metadata": {
      "needs_background": "light"
     },
     "output_type": "display_data"
    }
   ],
   "source": [
    "predict(\"Abu-Dubai-Testing.png\",model2,classes)"
   ]
  },
  {
   "cell_type": "markdown",
   "metadata": {
    "id": "5J6eY1LlVkIG"
   },
   "source": [
    "**Thank you 😊**"
   ]
  },
  {
   "cell_type": "markdown",
   "metadata": {
    "id": "Q9hkxb-cZ5Yh"
   },
   "source": [
    "**Video Link**"
   ]
  },
  {
   "cell_type": "markdown",
   "metadata": {
    "id": "fp3ZkkBNZ9u4"
   },
   "source": [
    "https://drive.google.com/file/d/17JsD2JrIsP99Pjfs8Yee7jPpoSihH8AJ/view?usp=share_link "
   ]
  }
 ],
 "metadata": {
  "colab": {
   "provenance": []
  },
  "kernelspec": {
   "display_name": "Python 3 (ipykernel)",
   "language": "python",
   "name": "python3"
  },
  "language_info": {
   "codemirror_mode": {
    "name": "ipython",
    "version": 3
   },
   "file_extension": ".py",
   "mimetype": "text/x-python",
   "name": "python",
   "nbconvert_exporter": "python",
   "pygments_lexer": "ipython3",
   "version": "3.11.0"
  }
 },
 "nbformat": 4,
 "nbformat_minor": 1
}
